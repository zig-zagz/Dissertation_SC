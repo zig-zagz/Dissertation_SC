{
 "cells": [
  {
   "cell_type": "code",
   "execution_count": null,
   "id": "16135032-9927-4fd1-ba62-758baad8a50a",
   "metadata": {
    "tags": []
   },
   "outputs": [],
   "source": [
    "import pandas as pd\n",
    "import numpy as np\n",
    "\n",
    "# Preprocessing\n",
    "from sklearn.model_selection import train_test_split\n",
    "from sklearn.pipeline import Pipeline\n",
    "from sklearn.metrics import accuracy_score\n",
    "from sklearn.preprocessing import LabelBinarizer\n",
    "\n",
    "# Modelling\n",
    "import tensorflow as tf\n",
    "from tensorflow.keras import preprocessing as kprocessing\n",
    "from tensorflow.keras import models, layers, optimizers\n",
    "from tensorflow.keras.optimizers import Adam\n",
    "\n",
    "# Get PLLM\n",
    "import transformers\n",
    "from transformers import DistilBertTokenizer\n",
    "from transformers import RobertaTokenizer, RobertaModel, TFRobertaModel, RobertaConfig\n",
    "\n",
    "# Fine-Tuning and Tracking\n",
    "import wandb\n",
    "\n",
    "# Evaluation\n",
    "from sklearn.metrics import accuracy_score, roc_auc_score, classification_report, matthews_corrcoef\n",
    "\n",
    "# Visualization\n",
    "import matplotlib\n",
    "from matplotlib import pyplot as plt\n",
    "\n",
    "# Hide Debug Info\n",
    "import os\n",
    "os.environ['TF_CPP_MIN_LOG_LEVEL'] = '2'"
   ]
  },
  {
   "cell_type": "code",
   "execution_count": null,
   "id": "a0d003ff-5e2a-4e22-8f5f-b90337cf590b",
   "metadata": {
    "tags": []
   },
   "outputs": [],
   "source": [
    "df = pd.read_json('../Data/Processed/processed_binary.json')\n",
    "df"
   ]
  },
  {
   "cell_type": "code",
   "execution_count": null,
   "id": "f09f47e4-b878-47c0-8961-14a1fdbc915d",
   "metadata": {
    "tags": []
   },
   "outputs": [],
   "source": [
    "tkzr = RobertaTokenizer.from_pretrained('distilroberta-base')"
   ]
  },
  {
   "cell_type": "code",
   "execution_count": null,
   "id": "7baf1f30-1953-4ba7-b12f-63094d24e2e9",
   "metadata": {
    "tags": []
   },
   "outputs": [],
   "source": [
    "# token_lengths = []\n",
    "# for text in df['tweet']:\n",
    "#     tokens = tokenizer_bert.encode(text, add_special_tokens=True)\n",
    "#     token_lengths.append(len(tokens))\n",
    "\n",
    "# token_lengths = np.array(token_lengths)\n",
    "\n",
    "# percentiles = [50, 75, 90, 95, 99]\n",
    "# for p in percentiles:\n",
    "#     print(f\"{p}th percentile of token length: {np.percentile(token_lengths, p)}\")"
   ]
  },
  {
   "cell_type": "code",
   "execution_count": null,
   "id": "3d101b58-bc58-49b5-89dd-a882061d20d8",
   "metadata": {},
   "outputs": [],
   "source": [
    "wandb.init(project=\"misinformation_glove_nlp_BERT\")\n",
    "config = dict(\n",
    "    epochs=2,\n",
    "    batch_size=256,\n",
    "    max_len=70,  \n",
    "    lr = 0.005,\n",
    "    model = 'DistillBERT',\n",
    "    label='2'\n",
    ")\n",
    "wandb.config.update(config)"
   ]
  },
  {
   "cell_type": "code",
   "execution_count": null,
   "id": "68a8ed06-b87c-4d06-b2d7-960fbfec0541",
   "metadata": {
    "tags": []
   },
   "outputs": [],
   "source": [
    "X = df['tweet']\n",
    "y = df['target_binary']"
   ]
  },
  {
   "cell_type": "code",
   "execution_count": null,
   "id": "64fbf5c6-df70-4fe7-a6ec-0e3d644029db",
   "metadata": {
    "tags": []
   },
   "outputs": [],
   "source": [
    "X = [tkzr(tweet, padding='max_length', max_length=wandb.config.max_len, truncation=True)['input_ids'] for tweet in X]\n",
    "X = np.array(X, dtype='int32')"
   ]
  },
  {
   "cell_type": "code",
   "execution_count": null,
   "id": "43aeb880-8496-417f-80a6-e43fa0ec8714",
   "metadata": {},
   "outputs": [],
   "source": [
    "X_train, X_test, y_train, y_test = train_test_split(X, y, test_size=0.25, random_state=14, stratify=df['target_binary'])"
   ]
  },
  {
   "cell_type": "code",
   "execution_count": null,
   "id": "287128ff-f656-4558-8b95-5e9af0803242",
   "metadata": {
    "tags": []
   },
   "outputs": [],
   "source": [
    "print('Shape of training data: ', X_train.shape)"
   ]
  },
  {
   "cell_type": "code",
   "execution_count": null,
   "id": "f245c23a-6f5a-4b4b-9ac1-3a477bb4ed0e",
   "metadata": {
    "tags": []
   },
   "outputs": [],
   "source": [
    "config = RobertaConfig.from_pretrained('distilroberta-base', hidden_dropout_prob=0.2, attention_probs_dropout_prob=0.2)"
   ]
  },
  {
   "cell_type": "code",
   "execution_count": null,
   "id": "7b6a35a3-2be2-4c31-9bd8-fd53f79289f6",
   "metadata": {
    "tags": []
   },
   "outputs": [],
   "source": [
    "dbert = TFRobertaModel.from_pretrained('distilroberta-base', config=config)"
   ]
  },
  {
   "cell_type": "code",
   "execution_count": null,
   "id": "bb0ebd73-5121-455f-a693-eb79aa817377",
   "metadata": {
    "tags": []
   },
   "outputs": [],
   "source": [
    "input_ids_in = layers.Input(shape=(wandb.config.max_len,), dtype='int32')\n",
    "\n",
    "# bert_output = dbert(input_ids=input_ids_in)[0][:,0,:]\n",
    "# dropout_output = layers.Dropout(0.5)(bert_output)\n",
    "# x = layers.Dense(1, activation='sigmoid')(dropout_output)\n",
    "\n",
    "bert_output = dbert(input_ids=input_ids_in)[0][:,0,:]\n",
    "x = layers.Dense(1, activation='sigmoid')(bert_output)\n",
    "\n",
    "dbert_model = models.Model(inputs=input_ids_in, outputs = x)\n",
    "\n",
    "dbert_model.compile(optimizer=Adam(learning_rate=wandb.config.lr), loss='binary_crossentropy', metrics=['accuracy'])"
   ]
  },
  {
   "cell_type": "code",
   "execution_count": null,
   "id": "aed8cdc5-d7b7-406b-a963-8cddf0821894",
   "metadata": {
    "tags": []
   },
   "outputs": [],
   "source": [
    "import datetime as dt\n",
    "\n",
    "start_time = dt.datetime.now()\n",
    "history = dbert_model.fit(X_train, y_train, batch_size=wandb.config.batch_size, epochs=wandb.config.epochs, shuffle=True, validation_data=(X_test, y_test), callbacks=[wandb.keras.WandbCallback()])\n",
    "end_time = dt.datetime.now()\n",
    "\n",
    "training_time_bert = (end_time - start_time).total_seconds()"
   ]
  },
  {
   "cell_type": "code",
   "execution_count": null,
   "id": "29b05840-043e-4fcf-b7f8-5fc2e2a5c0ed",
   "metadata": {
    "tags": []
   },
   "outputs": [],
   "source": [
    "predictions_train = dbert_model.predict(X_train)\n",
    "predictions_test = dbert_model.predict(X_test)"
   ]
  },
  {
   "cell_type": "code",
   "execution_count": null,
   "id": "ff56a68a-2813-4810-9dd2-fe93097ab5d1",
   "metadata": {
    "tags": []
   },
   "outputs": [],
   "source": [
    "# Convert predictions to binary (0 or 1) based on a threshold of 0.5\n",
    "train_preds_binary = (predictions_train > 0.5).astype(int)\n",
    "test_preds_binary = (predictions_test > 0.5).astype(int)\n",
    "\n",
    "train_accuracy = accuracy_score(y_train, train_preds_binary)\n",
    "test_accuracy = accuracy_score(y_test, test_preds_binary)\n",
    "\n",
    "print(f\"Training Accuracy: {train_accuracy}\")\n",
    "print(f\"Test Accuracy: {test_accuracy}\")"
   ]
  },
  {
   "cell_type": "code",
   "execution_count": null,
   "id": "4b62e4a7-51bf-4eb5-84e5-53881d5ae488",
   "metadata": {
    "tags": []
   },
   "outputs": [],
   "source": [
    "auc = roc_auc_score(y_test, predictions_test)\n",
    "mcc = matthews_corrcoef(y_test, test_preds_binary)\n",
    "\n",
    "print(\"AUC:\", auc)\n",
    "print(\"MCC:\", mcc)\n",
    "print(\" --- CLASSIFICATION REPORT --- \" )\n",
    "print(classification_report(y_test, test_preds_binary))"
   ]
  },
  {
   "cell_type": "code",
   "execution_count": null,
   "id": "c28b94f7-9bea-4da7-bd3b-bc32606e33e8",
   "metadata": {
    "tags": []
   },
   "outputs": [],
   "source": [
    "internal_val_df = pd.read_json('../Data/Processed/processed_binary_val.json')\n",
    "external_val_df = pd.read_json('../Data/Cross_Validation/COVID_processed.json')"
   ]
  },
  {
   "cell_type": "code",
   "execution_count": null,
   "id": "9f6783ef-65aa-4451-b2ed-6f90896d5864",
   "metadata": {
    "tags": []
   },
   "outputs": [],
   "source": [
    "i_X = internal_val_df['tweet']\n",
    "i_y = internal_val_df['target_binary']"
   ]
  },
  {
   "cell_type": "code",
   "execution_count": null,
   "id": "46c6e31a-b9ca-42fb-bae4-2eb64c9a619c",
   "metadata": {
    "tags": []
   },
   "outputs": [],
   "source": [
    "tokenizer = RobertaTokenizer.from_pretrained('distilroberta-base')\n",
    "\n",
    "i_X = [tokenizer(tweet, padding='max_length', max_length=wandb.config.max_len, truncation=True)['input_ids'] for tweet in i_X]\n",
    "i_X = np.array(i_X, dtype='int32')"
   ]
  },
  {
   "cell_type": "code",
   "execution_count": null,
   "id": "cf39ca46-0a10-4d56-9c24-ad7fe15b5c22",
   "metadata": {
    "tags": []
   },
   "outputs": [],
   "source": [
    "i_predictions = dbert_model.predict(i_X)"
   ]
  },
  {
   "cell_type": "code",
   "execution_count": null,
   "id": "2154e852-21d3-449f-a114-01e43c58bb96",
   "metadata": {
    "tags": []
   },
   "outputs": [],
   "source": [
    "e_X = external_val_df['tweet']\n",
    "e_y = external_val_df['target']"
   ]
  },
  {
   "cell_type": "code",
   "execution_count": null,
   "id": "3946f228-9a6d-4cf6-9e20-4ea2394bbf45",
   "metadata": {
    "tags": []
   },
   "outputs": [],
   "source": [
    "e_X = [tokenizer(tweet, padding='max_length', max_length=wandb.config.max_len, truncation=True)['input_ids'] for tweet in e_X]\n",
    "e_X = np.array(e_X, dtype='int32')"
   ]
  },
  {
   "cell_type": "code",
   "execution_count": null,
   "id": "85489bd4-82af-4d86-a3d3-b58c30a3eae1",
   "metadata": {
    "tags": []
   },
   "outputs": [],
   "source": [
    "e_predictions = dbert_model.predict(e_X)"
   ]
  },
  {
   "cell_type": "code",
   "execution_count": null,
   "id": "26ea8588-15fb-45dc-8555-7974e8a60af7",
   "metadata": {
    "tags": []
   },
   "outputs": [],
   "source": [
    "i_predictions_binary = (i_predictions > 0.5).astype(int)\n",
    "e_predictions_binary = (e_predictions > 0.5).astype(int)"
   ]
  },
  {
   "cell_type": "code",
   "execution_count": null,
   "id": "3d23de73-e2ce-4a7a-93aa-a492f47ceeda",
   "metadata": {
    "tags": []
   },
   "outputs": [],
   "source": [
    "i_val_mcc = matthews_corrcoef(internal_val_df['target_binary'], i_predictions_binary)\n",
    "i_val_acc = accuracy_score(internal_val_df['target_binary'], i_predictions_binary)\n",
    "print(f\"(I) Validation: Matthews Correlation Coefficient: {i_val_mcc}\")\n",
    "print(f\"(I) Validation: Accuracy: {i_val_acc}\")\n",
    "print(\"---\")\n",
    "e_val_mcc = matthews_corrcoef(external_val_df['target'], e_predictions_binary)\n",
    "e_val_acc = accuracy_score(external_val_df['target'], e_predictions_binary)\n",
    "print(f\"(E) Validation: Matthews Correlation Coefficient: {e_val_mcc}\")\n",
    "print(f\"(E) Validation Accuracy: {e_val_acc}\")"
   ]
  },
  {
   "cell_type": "code",
   "execution_count": null,
   "id": "2e6181c7-8cbc-4d4d-96a4-ecaab869b30d",
   "metadata": {
    "tags": []
   },
   "outputs": [],
   "source": [
    "total_val_mcc = i_val_mcc + e_val_mcc"
   ]
  },
  {
   "cell_type": "code",
   "execution_count": null,
   "id": "d820267f-c2f0-4cdf-bec6-94c10151ef83",
   "metadata": {
    "tags": []
   },
   "outputs": [],
   "source": [
    "wandb.log({'Train Accuracy': train_accuracy, 'Test Accuracy': test_accuracy, 'AUC': auc, 'MCC': mcc, 'Training Time': training_time_bert, '(Internal) Validation MCC': i_val_mcc, '(Internal) Validation ACC': i_val_acc, '(External) Validation MCC': e_val_mcc, '(External) Validation Accuracy': e_val_acc, 'Total Validation MCC': total_val_mcc})\n",
    "wandb.finish()"
   ]
  },
  {
   "cell_type": "code",
   "execution_count": null,
   "id": "e2bf1783-6d21-4fc6-b501-25f4505ad706",
   "metadata": {},
   "outputs": [],
   "source": [
    "total_val_mcc"
   ]
  },
  {
   "cell_type": "code",
   "execution_count": null,
   "id": "1a1399c9-6e8f-4b23-9b8d-12f1aedcea9d",
   "metadata": {},
   "outputs": [],
   "source": []
  }
 ],
 "metadata": {
  "kernelspec": {
   "display_name": "Python 3 (ipykernel)",
   "language": "python",
   "name": "python3"
  },
  "language_info": {
   "codemirror_mode": {
    "name": "ipython",
    "version": 3
   },
   "file_extension": ".py",
   "mimetype": "text/x-python",
   "name": "python",
   "nbconvert_exporter": "python",
   "pygments_lexer": "ipython3",
   "version": "3.11.4"
  }
 },
 "nbformat": 4,
 "nbformat_minor": 5
}
