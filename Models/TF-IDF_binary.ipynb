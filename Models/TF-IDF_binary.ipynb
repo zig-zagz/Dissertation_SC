{
 "cells": [
  {
   "cell_type": "code",
   "execution_count": null,
   "id": "6551ff28-799a-41f2-82a0-0798a0058d34",
   "metadata": {
    "tags": []
   },
   "outputs": [],
   "source": [
    "import pandas as pd\n",
    "\n",
    "# Pre-Processing\n",
    "from sklearn.model_selection import train_test_split\n",
    "from sklearn.feature_extraction.text import TfidfTransformer\n",
    "from sklearn.feature_extraction.text import TfidfVectorizer\n",
    "\n",
    "# Modelling\n",
    "from sklearn.linear_model import LogisticRegression\n",
    "\n",
    "# Evaluation\n",
    "import plotly.figure_factory as ff\n",
    "from sklearn.metrics import accuracy_score, f1_score, roc_auc_score, classification_report, matthews_corrcoef, confusion_matrix\n",
    "import datetime"
   ]
  },
  {
   "cell_type": "code",
   "execution_count": null,
   "id": "50ed7e7c-0078-40e1-bcdb-937a2049184e",
   "metadata": {
    "tags": []
   },
   "outputs": [],
   "source": [
    "df = pd.read_json('../Data/Processed/processed_binary.json')\n",
    "df"
   ]
  },
  {
   "cell_type": "code",
   "execution_count": null,
   "id": "83799b5d-d73d-416f-8923-543b4f78fe6e",
   "metadata": {
    "tags": []
   },
   "outputs": [],
   "source": [
    "X_train, X_test, y_train, y_test = train_test_split(df['tweet'], df['target_binary'], test_size=0.25, random_state=14)\n",
    "\n",
    "# Initialise Vectoriser\n",
    "vectoriser = TfidfVectorizer(stop_words=\"english\")"
   ]
  },
  {
   "cell_type": "code",
   "execution_count": null,
   "id": "be90136b-a70f-4100-a8ba-9eeb3c1f56c3",
   "metadata": {
    "tags": []
   },
   "outputs": [],
   "source": [
    "X_train_vectorised = vectoriser.fit_transform(X_train)\n",
    "X_test_vectorised = vectoriser.transform(X_test)\n",
    "print(X_train_vectorised.shape)"
   ]
  },
  {
   "cell_type": "code",
   "execution_count": null,
   "id": "bcf27b32-bd50-4f4f-9605-3796c630c1e3",
   "metadata": {
    "tags": []
   },
   "outputs": [],
   "source": [
    "# Initialise Model\n",
    "clf = LogisticRegression(max_iter=10000, penalty='l2', C=1.0)\n",
    "\n",
    "# Fit Model to Vectorised Training Data\n",
    "start_time = datetime.datetime.now()\n",
    "clf.fit(X_train_vectorised, y_train)\n",
    "end_time = datetime.datetime.now()\n",
    "\n",
    "training_time = (end_time - start_time).total_seconds()"
   ]
  },
  {
   "cell_type": "code",
   "execution_count": null,
   "id": "9675466d-fdad-410b-bdad-7b44bc1c58e2",
   "metadata": {
    "tags": []
   },
   "outputs": [],
   "source": [
    "clf.score(X_test_vectorised,  y_test)"
   ]
  },
  {
   "cell_type": "code",
   "execution_count": null,
   "id": "20ea1305-6a81-4441-9dfc-70b5b2481679",
   "metadata": {
    "tags": []
   },
   "outputs": [],
   "source": [
    "# Train data predictions\n",
    "train_predictions = clf.predict(X_train_vectorised)\n",
    "train_accuracy = accuracy_score(y_train, train_predictions)\n",
    "\n",
    "# Test data predictions\n",
    "test_predictions = clf.predict(X_test_vectorised)\n",
    "test_accuracy = accuracy_score(y_test, test_predictions)\n",
    "\n",
    "decision_scores = clf.decision_function(X_test_vectorised)\n",
    "auc = roc_auc_score(y_test, decision_scores)\n",
    "\n",
    "mcc = matthews_corrcoef(y_test, test_predictions)\n",
    "\n",
    "print(f'Train Accuracy: {train_accuracy}')\n",
    "print(f'Test Accuracy: {test_accuracy}')\n",
    "print(f'Training Time: {training_time}')\n",
    "print(f'AUC: {auc}')\n",
    "print(f'Matthews Correlation Coefficient: {mcc}')"
   ]
  },
  {
   "cell_type": "code",
   "execution_count": null,
   "id": "14593e98-141c-4c45-af34-e9bf39b1771c",
   "metadata": {},
   "outputs": [],
   "source": [
    "def plot_confusion_matrix_and_report(y_true, y_pred, title):\n",
    "    cm = confusion_matrix(y_true, y_pred)\n",
    "    accuracy = accuracy_score(y_true, y_pred)\n",
    "    class_report = classification_report(y_true, y_pred, target_names=['Class 0', 'Class 1'])\n",
    "    \n",
    "    fig = ff.create_annotated_heatmap(z=cm, x=['Predicted 0', 'Predicted 1'], y=['Actual 0', 'Actual 1'])\n",
    "    fig.update_layout(title=title + f' : Accuracy: {accuracy:.2f}', autosize=False, width=500, height=400)\n",
    "    fig.show()\n",
    "    \n",
    "    print(\"Classification Report:\")\n",
    "    print(class_report)"
   ]
  },
  {
   "cell_type": "code",
   "execution_count": null,
   "id": "a70a3a03-1168-4cb6-986c-0f54625b7095",
   "metadata": {},
   "outputs": [],
   "source": [
    "plot_confusion_matrix_and_report(y_test, test_predictions, 'TF-IDF Binary')"
   ]
  },
  {
   "cell_type": "code",
   "execution_count": null,
   "id": "f66641ee-a254-414f-9faf-1d7f7f79492c",
   "metadata": {},
   "outputs": [],
   "source": [
    "internal_val_df = pd.read_json('../Data/Processed/processed_binary_val.json')\n",
    "internal_val_df"
   ]
  },
  {
   "cell_type": "code",
   "execution_count": null,
   "id": "6e14a5ff-7919-4406-af8a-d8fb4cc4e7d6",
   "metadata": {
    "tags": []
   },
   "outputs": [],
   "source": [
    "internal_vectorised = vectoriser.transform(internal_val_df['tweet'])\n",
    "internal_val_accuracy = clf.score(internal_vectorised, internal_val_df['target_binary'])\n",
    "print(f'Validation Set (COVID) Accuracy: {internal_val_accuracy}')"
   ]
  },
  {
   "cell_type": "code",
   "execution_count": null,
   "id": "6d6fac12-4fd2-4a43-bef5-6bc4f5562bdb",
   "metadata": {
    "tags": []
   },
   "outputs": [],
   "source": [
    "val_predicted_labels = clf.predict(internal_vectorised)\n",
    "val_true_labels = internal_val_df['target_binary']\n",
    "\n",
    "i_val_mcc = matthews_corrcoef(val_true_labels, val_predicted_labels)\n",
    "print(f'Matthews Correlation Coefficient: {i_val_mcc}')"
   ]
  },
  {
   "cell_type": "code",
   "execution_count": null,
   "id": "7a0c4842-b7fe-4ff6-a988-649211903580",
   "metadata": {
    "tags": []
   },
   "outputs": [],
   "source": [
    "external_val_df = pd.read_json('../Data/Cross_Validation/COVID_processed.json')\n",
    "external_val_df"
   ]
  },
  {
   "cell_type": "code",
   "execution_count": null,
   "id": "3996a2bb-8af4-4361-8b60-8065f4c6c7b3",
   "metadata": {
    "tags": []
   },
   "outputs": [],
   "source": [
    "external_vectorised = vectoriser.transform(external_val_df['tweet'])\n",
    "external_val_accuracy = clf.score(external_vectorised, external_val_df['target'])\n",
    "print(f'Validation Set (COVID) Accuracy: {external_val_accuracy}')"
   ]
  },
  {
   "cell_type": "code",
   "execution_count": null,
   "id": "40ed557b-c433-410b-9777-c185e308a1b1",
   "metadata": {
    "tags": []
   },
   "outputs": [],
   "source": [
    "val_predicted_labels = clf.predict(external_vectorised)\n",
    "val_true_labels = external_val_df['target']\n",
    "\n",
    "e_val_mcc = matthews_corrcoef(val_true_labels, val_predicted_labels)\n",
    "print(f'Matthews Correlation Coefficient: {e_val_mcc}')"
   ]
  },
  {
   "cell_type": "code",
   "execution_count": null,
   "id": "bb2fb5d6-821d-4e15-8e55-61497a061789",
   "metadata": {},
   "outputs": [],
   "source": [
    "total_mcc = e_val_mcc + i_val_mcc \n",
    "\n",
    "data = {\n",
    "    \"Model\": \"TF-IDF (Binary)\",\n",
    "    \"Train Accuracy\": [train_accuracy],\n",
    "    \"Test Accuracy\": [test_accuracy],\n",
    "    \"MCC\": [mcc],\n",
    "    \"AUC\": [auc],\n",
    "    \"Training Time (s)\": [training_time],\n",
    "    \"(I) Validation Accuracy\": [internal_val_accuracy],\n",
    "    \"(I) Validation MCC\": [i_val_mcc],\n",
    "    \"(E) Validation Accuracy\": [external_val_accuracy],\n",
    "    \"(E) Validation MCC\": [e_val_mcc],\n",
    "    \"Total Validation MCC\": [total_mcc]\n",
    "}\n",
    "\n",
    "\n",
    "results = pd.DataFrame(data)\n",
    "results.to_csv('../Results/TF-IDF_binary.csv', index=False)"
   ]
  },
  {
   "cell_type": "code",
   "execution_count": null,
   "id": "e6aa6c3c-cce9-4bce-bf4d-14719f1a4d79",
   "metadata": {},
   "outputs": [],
   "source": []
  }
 ],
 "metadata": {
  "kernelspec": {
   "display_name": "Python 3 (ipykernel)",
   "language": "python",
   "name": "python3"
  },
  "language_info": {
   "codemirror_mode": {
    "name": "ipython",
    "version": 3
   },
   "file_extension": ".py",
   "mimetype": "text/x-python",
   "name": "python",
   "nbconvert_exporter": "python",
   "pygments_lexer": "ipython3",
   "version": "3.11.4"
  }
 },
 "nbformat": 4,
 "nbformat_minor": 5
}
