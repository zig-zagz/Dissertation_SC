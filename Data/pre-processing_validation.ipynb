{
 "cells": [
  {
   "cell_type": "code",
   "execution_count": null,
   "id": "f6cf0917-a48d-45e6-8bc4-61c801263e35",
   "metadata": {
    "tags": []
   },
   "outputs": [],
   "source": [
    "import pandas as pd\n",
    "import re\n",
    "\n",
    "# Load COVID (FIGHTING AND INFODEMIC) DFs\n",
    "covid_train_data = pd.read_csv('Cross_Validation/Binary/train.csv')\n",
    "covid_test_data = pd.read_csv('Cross_Validation/Binary/test.csv')\n",
    "covid_val_data = pd.read_csv('Cross_Validation/Binary/val.csv')\n",
    "\n",
    "# Combine into a Single Dataset\n",
    "COVID_combined_data = pd.concat([covid_train_data, covid_test_data, covid_val_data], ignore_index=True)\n",
    "COVID_combined_data"
   ]
  },
  {
   "cell_type": "code",
   "execution_count": null,
   "id": "767f2b39-ca08-4178-b792-9391ffa0e7f2",
   "metadata": {},
   "outputs": [],
   "source": [
    "COVID_combined_data['target'] = COVID_combined_data['label'].apply(lambda x: 0 if x == 'fake' else 1)\n",
    "\n",
    "COVID_combined_data = COVID_combined_data.drop(columns=['label', 'id'])\n",
    "COVID_combined_data"
   ]
  },
  {
   "cell_type": "code",
   "execution_count": null,
   "id": "01dce9fe-9a12-404e-b739-ceed4123252e",
   "metadata": {},
   "outputs": [],
   "source": [
    "contraction_dict = {\"ain't\": \"is not\", \"aren't\": \"are not\",\"can't\": \"cannot\", \"'cause\": \"because\", \"could've\": \"could have\", \"couldn't\": \"could not\", \"didn't\": \"did not\",  \"doesn't\": \"does not\", \"don't\": \"do not\", \"hadn't\": \"had not\", \"hasn't\": \"has not\", \"haven't\": \"have not\", \"he'd\": \"he would\",\"he'll\": \"he will\", \"he's\": \"he is\", \"how'd\": \"how did\", \"how'd'y\": \"how do you\", \"how'll\": \"how will\", \"how's\": \"how is\",  \"I'd\": \"I would\", \"I'd've\": \"I would have\", \"I'll\": \"I will\", \"I'll've\": \"I will have\",\"I'm\": \"I am\", \"I've\": \"I have\", \"i'd\": \"i would\", \"i'd've\": \"i would have\", \"i'll\": \"i will\",  \"i'll've\": \"i will have\",\"i'm\": \"i am\", \"i've\": \"i have\", \"isn't\": \"is not\", \"it'd\": \"it would\", \"it'd've\": \"it would have\", \"it'll\": \"it will\", \"it'll've\": \"it will have\",\"it's\": \"it is\", \"let's\": \"let us\", \"ma'am\": \"madam\", \"mayn't\": \"may not\", \"might've\": \"might have\",\"mightn't\": \"might not\",\"mightn't've\": \"might not have\", \"must've\": \"must have\", \"mustn't\": \"must not\", \"mustn't've\": \"must not have\", \"needn't\": \"need not\", \"needn't've\": \"need not have\",\"o'clock\": \"of the clock\", \"oughtn't\": \"ought not\", \"oughtn't've\": \"ought not have\", \"shan't\": \"shall not\", \"sha'n't\": \"shall not\", \"shan't've\": \"shall not have\", \"she'd\": \"she would\", \"she'd've\": \"she would have\", \"she'll\": \"she will\", \"she'll've\": \"she will have\", \"she's\": \"she is\", \"should've\": \"should have\", \"shouldn't\": \"should not\", \"shouldn't've\": \"should not have\", \"so've\": \"so have\",\"so's\": \"so as\", \"this's\": \"this is\",\"that'd\": \"that would\", \"that'd've\": \"that would have\", \"that's\": \"that is\", \"there'd\": \"there would\", \"there'd've\": \"there would have\", \"there's\": \"there is\", \"here's\": \"here is\",\"they'd\": \"they would\", \"they'd've\": \"they would have\", \"they'll\": \"they will\", \"they'll've\": \"they will have\", \"they're\": \"they are\", \"they've\": \"they have\", \"to've\": \"to have\", \"wasn't\": \"was not\", \"we'd\": \"we would\", \"we'd've\": \"we would have\", \"we'll\": \"we will\", \"we'll've\": \"we will have\", \"we're\": \"we are\", \"we've\": \"we have\", \"weren't\": \"were not\", \"what'll\": \"what will\", \"what'll've\": \"what will have\", \"what're\": \"what are\",  \"what's\": \"what is\", \"what've\": \"what have\", \"when's\": \"when is\", \"when've\": \"when have\", \"where'd\": \"where did\", \"where's\": \"where is\", \"where've\": \"where have\", \"who'll\": \"who will\", \"who'll've\": \"who will have\", \"who's\": \"who is\", \"who've\": \"who have\", \"why's\": \"why is\", \"why've\": \"why have\", \"will've\": \"will have\", \"won't\": \"will not\", \"won't've\": \"will not have\", \"would've\": \"would have\", \"wouldn't\": \"would not\", \"wouldn't've\": \"would not have\", \"y'all\": \"you all\", \"y'all'd\": \"you all would\",\"y'all'd've\": \"you all would have\",\"y'all're\": \"you all are\",\"y'all've\": \"you all have\",\"you'd\": \"you would\", \"you'd've\": \"you would have\", \"you'll\": \"you will\", \"you'll've\": \"you will have\", \"you're\": \"you are\", \"you've\": \"you have\"}\n",
    "\n",
    "def preprocess_text(text, number_indicator=\"NUM\", url_indicator=\"URL\", percent_indicator=\"PERCENT\", money_indicator=\"MONEY\"):\n",
    "    \n",
    "    punctuation = r\"[\\]^_`{|}&<>*#-:\"\n",
    "\n",
    "    # Function to expand contractions\n",
    "    def replace_contractions(text):\n",
    "        contractions_pattern = re.compile(r'\\b(' + '|'.join(re.escape(key) for key in contraction_dict.keys()) + r')\\b', re.IGNORECASE)\n",
    "\n",
    "        def expand_match(contraction):\n",
    "            match = contraction.group(0)\n",
    "            first_char = match[0]\n",
    "            expanded_contraction = contraction_dict[match.lower() if match.lower() in contraction_dict else match]\n",
    "            return first_char + expanded_contraction[1:] if first_char.isupper() else expanded_contraction\n",
    "\n",
    "        return contractions_pattern.sub(expand_match, text)\n",
    "\n",
    "    # Expand contractions\n",
    "    text = replace_contractions(text)\n",
    "\n",
    "    # Remove punctuation\n",
    "    for p in punctuation:\n",
    "        text = text.replace(p, \"\")\n",
    "\n",
    "    # Replace URLs with URL\n",
    "    url_pattern = r'https?//(?:[a-zA-Z]|[0-9]|[$-_@.&+]|[!*\\\\(\\\\),]|(?:%[0-9a-fA-F][0-9a-fA-F]))+'\n",
    "    text = re.sub(url_pattern, url_indicator, text)\n",
    "\n",
    "    # Label MONEY\n",
    "    text = re.sub(r'\\$\\b(?!0+(?:\\.0+)?$)\\d+(\\.\\d{1,2})?\\b', lambda m: money_indicator, text)\n",
    "\n",
    "    # Replace numbers, except years, with NUM \n",
    "    text = re.sub(r'\\b\\d{1,3}\\b', number_indicator, text)\n",
    "    text = re.sub(r'\\b(?!1|2)\\d{4,}\\b', number_indicator, text)\n",
    "    \n",
    "    # Label PERCENT\n",
    "    text = text.replace(number_indicator + \"%\", percent_indicator)\n",
    "    \n",
    "    # Replace newline with a space and remove mentions\n",
    "    text = text.replace('\\n', ' ').replace('\\r', ' ')\n",
    "    text = re.sub(r'@\\w+', '', text)\n",
    "\n",
    "    return text"
   ]
  },
  {
   "cell_type": "code",
   "execution_count": null,
   "id": "8d49f281-5443-4b95-99fd-9538e858a386",
   "metadata": {},
   "outputs": [],
   "source": [
    "COVID_combined_data['tweet'] = COVID_combined_data['tweet'].apply(lambda x: pd.Series(preprocess_text(x)))\n",
    "COVID_combined_data"
   ]
  },
  {
   "cell_type": "code",
   "execution_count": null,
   "id": "15f11819-f57d-4804-85c7-70c80e5d6971",
   "metadata": {
    "tags": []
   },
   "outputs": [],
   "source": [
    "COVID_combined_data[['tweet', 'target']].to_json('Cross_Validation/COVID_processed.json', orient='records')"
   ]
  },
  {
   "cell_type": "markdown",
   "id": "1951183f-f574-48cc-8255-ecc063319eb6",
   "metadata": {},
   "source": [
    "### Multiclass (3)"
   ]
  },
  {
   "cell_type": "code",
   "execution_count": null,
   "id": "b1dbda23-2a09-4125-8144-d1e1c498116a",
   "metadata": {
    "tags": []
   },
   "outputs": [],
   "source": [
    "covid_true_data = pd.read_csv('Cross_Validation/Multiclass_3/English_True.csv', encoding='ISO-8859-1')\n",
    "covid_false_data = pd.read_csv('Cross_Validation/Multiclass_3/English_False.csv', encoding='ISO-8859-1')\n",
    "covid_uncertain_data = pd.read_csv('Cross_Validation/Multiclass_3/English_Uncertain.csv', encoding='ISO-8859-1')"
   ]
  },
  {
   "cell_type": "code",
   "execution_count": null,
   "id": "9748e184-dc69-41c9-a5c7-02c456eab574",
   "metadata": {
    "tags": []
   },
   "outputs": [],
   "source": [
    "covid_true_data"
   ]
  },
  {
   "cell_type": "code",
   "execution_count": null,
   "id": "1ff4f5be-caf4-4a34-80ab-7b10685301b7",
   "metadata": {
    "tags": []
   },
   "outputs": [],
   "source": [
    "covid_true_data = covid_true_data.iloc[1:]\n",
    "covid_true_data = covid_true_data.drop(covid_true_data.columns[0], axis=1)\n",
    "\n",
    "covid_false_data = covid_false_data.iloc[1:]\n",
    "covid_false_data = covid_false_data.drop(covid_false_data.columns[0], axis=1)\n",
    "\n",
    "covid_uncertain_data = covid_uncertain_data.iloc[1:]\n",
    "covid_uncertain_data = covid_uncertain_data.drop(covid_uncertain_data.columns[0], axis=1)\n",
    "\n",
    "covid_true_data"
   ]
  },
  {
   "cell_type": "code",
   "execution_count": null,
   "id": "9ff6016a-9974-4494-96e3-60c1c186a6e4",
   "metadata": {
    "tags": []
   },
   "outputs": [],
   "source": [
    "covid_true_data.rename(columns={'Unnamed: 1': 'tweet'}, inplace=True)\n",
    "covid_true_data['target'] = 'true'\n",
    "\n",
    "covid_false_data.rename(columns={'Unnamed: 1': 'tweet'}, inplace=True)\n",
    "covid_false_data['target'] = 'false'\n",
    "\n",
    "covid_uncertain_data.rename(columns={'Unnamed: 1': 'tweet'}, inplace=True)\n",
    "covid_uncertain_data['target'] = 'no_majority'\n",
    "\n",
    "covid_true_data"
   ]
  },
  {
   "cell_type": "code",
   "execution_count": null,
   "id": "f6018602-9cc6-42a8-b7ea-a6b9849c8488",
   "metadata": {
    "tags": []
   },
   "outputs": [],
   "source": [
    "COVID_multiclass_data = pd.concat([covid_true_data, covid_false_data, covid_uncertain_data], ignore_index=True)\n",
    "COVID_multiclass_data"
   ]
  },
  {
   "cell_type": "code",
   "execution_count": null,
   "id": "f9a652fe-11fd-43dd-b87d-ccb74b4d784c",
   "metadata": {
    "tags": []
   },
   "outputs": [],
   "source": [
    "COVID_multiclass_data['tweet'] = COVID_multiclass_data['tweet'].apply(lambda x: pd.Series(preprocess_text(x)))\n",
    "COVID_multiclass_data"
   ]
  },
  {
   "cell_type": "code",
   "execution_count": null,
   "id": "2e9b98ed-8fe5-4185-931d-03d077bd734e",
   "metadata": {
    "tags": []
   },
   "outputs": [],
   "source": [
    "COVID_multiclass_data = COVID_multiclass_data.sample(frac=1).reset_index(drop=True)"
   ]
  },
  {
   "cell_type": "code",
   "execution_count": null,
   "id": "025a490d-dfd0-4901-999b-5f4d305a08f3",
   "metadata": {
    "tags": []
   },
   "outputs": [],
   "source": [
    "COVID_multiclass_data"
   ]
  },
  {
   "cell_type": "code",
   "execution_count": null,
   "id": "987b8373-b9c0-47a9-b75f-712d05c53a09",
   "metadata": {
    "tags": []
   },
   "outputs": [],
   "source": [
    "COVID_multiclass_data[['tweet', 'target']].to_json('Cross_Validation/COVID_processed_multiclass_3.json', orient='records')"
   ]
  },
  {
   "cell_type": "code",
   "execution_count": null,
   "id": "b006a9e2-4c4a-471c-ab33-2896ea5ecc4b",
   "metadata": {},
   "outputs": [],
   "source": []
  }
 ],
 "metadata": {
  "kernelspec": {
   "display_name": "Python 3 (ipykernel)",
   "language": "python",
   "name": "python3"
  },
  "language_info": {
   "codemirror_mode": {
    "name": "ipython",
    "version": 3
   },
   "file_extension": ".py",
   "mimetype": "text/x-python",
   "name": "python",
   "nbconvert_exporter": "python",
   "pygments_lexer": "ipython3",
   "version": "3.11.4"
  }
 },
 "nbformat": 4,
 "nbformat_minor": 5
}
