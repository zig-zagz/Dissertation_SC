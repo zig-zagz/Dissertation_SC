{
 "cells": [
  {
   "cell_type": "code",
   "execution_count": null,
   "id": "2a01d92c-e8f3-4045-a174-8cd5b12bb6e7",
   "metadata": {
    "tags": []
   },
   "outputs": [],
   "source": [
    "import pandas as pd\n",
    "import re\n",
    "import plotly.express as px\n",
    "import plotly.graph_objects as go\n",
    "from plotly.subplots import make_subplots\n",
    "\n",
    "features_df = pd.read_csv('Dataset/Features_For_Traditional_ML_Techniques.csv')\n",
    "processed_df = pd.read_json('Processed/processed_all.json')"
   ]
  },
  {
   "cell_type": "code",
   "execution_count": null,
   "id": "5ebda835-7352-48da-ab7b-822f827b3743",
   "metadata": {
    "tags": []
   },
   "outputs": [],
   "source": [
    "print(len(features_df))\n",
    "print(len(processed_df))"
   ]
  },
  {
   "cell_type": "code",
   "execution_count": null,
   "id": "45df2442-81ec-42a5-8517-209cfd4545c5",
   "metadata": {
    "tags": []
   },
   "outputs": [],
   "source": [
    "df = pd.merge(features_df, processed_df, left_index=True, right_index=True)"
   ]
  },
  {
   "cell_type": "code",
   "execution_count": null,
   "id": "849b0369-bb24-4d99-b476-aa97c529fdeb",
   "metadata": {
    "tags": []
   },
   "outputs": [],
   "source": [
    "df.columns"
   ]
  },
  {
   "cell_type": "code",
   "execution_count": null,
   "id": "ba572643-9023-46d5-bcd8-8f5530fd6eb1",
   "metadata": {
    "tags": []
   },
   "outputs": [],
   "source": [
    "df = df[['statement_x', 'BinaryNumTarget', 'followers_count', 'friends_count', 'favourites_count', 'statuses_count', 'listed_count', 'following', 'mentions', 'quotes', 'replies', 'retweets', 'favourites', 'hashtags', 'URLs', 'unique_count', 'total_count', 'Word count', 'Max word length', 'Min word length', 'Average word length', 'present_verbs', 'past_verbs', 'adjectives', 'adverbs', 'adpositions', 'pronouns', 'TOs', 'determiners', 'conjunctions', 'dots', 'exclamation', 'questions', 'ampersand', 'capitals', 'digits', 'long_word_freq', 'short_word_freq', 'tweet_y', 'keywords', 'target_binary', 'target_3', 'target_5']]\n",
    "df"
   ]
  },
  {
   "cell_type": "code",
   "execution_count": null,
   "id": "3da10cf2-b5c4-4e1f-ad0e-ddcc2b995c59",
   "metadata": {},
   "outputs": [],
   "source": [
    "df[\"target_binary\"].value_counts()\n",
    "df[\"target_3\"].value_counts()\n",
    "df[\"target_5\"].value_counts()"
   ]
  },
  {
   "cell_type": "code",
   "execution_count": null,
   "id": "a9d0afda-9eb9-4ede-985e-e82de3428131",
   "metadata": {
    "tags": []
   },
   "outputs": [],
   "source": [
    "# Create 1x3 subplot layout\n",
    "fig = make_subplots(rows=1, cols=3, specs=[[{'type':'pie'}, {'type':'pie'}, {'type':'pie'}]])\n",
    "\n",
    "fig.add_trace(go.Pie(labels=df['target_binary'].value_counts().index,\n",
    "                     values=df['target_binary'].value_counts().values,\n",
    "                     name='target_binary'), row=1, col=1)\n",
    "\n",
    "fig.add_trace(go.Pie(labels=df['target_3'].value_counts().index,\n",
    "                     values=df['target_3'].value_counts().values,\n",
    "                     name='target_3'), row=1, col=2)\n",
    "\n",
    "fig.add_trace(go.Pie(labels=df['target_5'].value_counts().index,\n",
    "                     values=df['target_5'].value_counts().values,\n",
    "                     name='target_5'), row=1, col=3)\n",
    "\n",
    "# Improve Style/Layout\n",
    "fig.update_layout(\n",
    "    annotations=[\n",
    "        dict(\n",
    "            text='Distribution of Binary and Multiclass <i>(3 and 5 Label)</i> Target',\n",
    "            showarrow=False,\n",
    "            xref='paper',\n",
    "            yref='paper',\n",
    "            x=0.5,  \n",
    "            y=1.15,  \n",
    "            xanchor='center',\n",
    "            yanchor='bottom',\n",
    "            font=dict(\n",
    "                size=16  \n",
    "            )\n",
    "        )\n",
    "    ],\n",
    "    width=800,\n",
    "    height=350,\n",
    ")\n",
    "\n",
    "fig.show()"
   ]
  },
  {
   "cell_type": "code",
   "execution_count": null,
   "id": "e2ca15d5-8820-4a81-93a5-a5b93467f089",
   "metadata": {
    "tags": []
   },
   "outputs": [],
   "source": [
    "# Grouping Aggregate Function\n",
    "def create_grouped_df(df, group_column, columns_to_average, decimals=2):\n",
    "    grouped_dataframes = []\n",
    "    \n",
    "    for column in columns_to_average:\n",
    "        grouped_df = df.groupby(group_column)[column].mean().reset_index()\n",
    "        grouped_df[column] = grouped_df[column].round(decimals)\n",
    "        grouped_dataframes.append(grouped_df)\n",
    "    \n",
    "    df = pd.DataFrame()\n",
    "    for i, grouped_df in enumerate(grouped_dataframes):\n",
    "        if i == 0:\n",
    "            df = grouped_df\n",
    "        else:\n",
    "            df = df.merge(grouped_df, on=group_column)\n",
    "    \n",
    "    return df"
   ]
  },
  {
   "cell_type": "code",
   "execution_count": null,
   "id": "1fead3f6-6c87-44aa-9d86-2fbbf04f5ff6",
   "metadata": {
    "tags": []
   },
   "outputs": [],
   "source": [
    "engagement_df = create_grouped_df(df, 'target_binary', ['favourites', 'replies', 'retweets', 'quotes'])\n",
    "engagement_df"
   ]
  },
  {
   "cell_type": "code",
   "execution_count": null,
   "id": "b08c70ac-e2d3-4e26-9441-ef190ea6ec53",
   "metadata": {
    "tags": []
   },
   "outputs": [],
   "source": [
    "# Engagement Metric Distibutions\n",
    "engagement_df = create_grouped_df(df, 'target_binary', ['favourites', 'replies', 'retweets', 'quotes'])\n",
    "\n",
    "fig = make_subplots(rows=1, cols=4, specs=[[{'type': 'pie'}, {'type': 'pie'}, {'type': 'pie'}, {'type': 'pie'}],\n",
    "                                          ],\n",
    "                    subplot_titles=('Likes', 'Replies', 'Retweets', 'Quotes (Retweets with Comments)' ))\n",
    "\n",
    "fig.add_trace(go.Pie(labels=engagement_df['target_binary'], values=engagement_df['favourites'], name='Likes',\n",
    "                     textinfo='label+percent', hoverinfo='label+value'), row=1, col=1)\n",
    "fig.add_trace(go.Pie(labels=engagement_df['target_binary'], values=engagement_df['replies'], name='Replies',\n",
    "                     textinfo='label+percent', hoverinfo='label+value'), row=1, col=2)\n",
    "fig.add_trace(go.Pie(labels=engagement_df['target_binary'], values=engagement_df['retweets'], name='Retweets',\n",
    "                     textinfo='label+percent', hoverinfo='label+value'), row=1, col=3)\n",
    "fig.add_trace(go.Pie(labels=engagement_df['target_binary'], values=engagement_df['quotes'], name='Quotes (Retweets with Comments)',\n",
    "                     textinfo='label+percent', hoverinfo='label+value'), row=1, col=4)\n",
    "\n",
    "fig.update_layout(\n",
    "    width=1000,\n",
    "    height=400,\n",
    "    showlegend=False,\n",
    ")\n",
    "\n",
    "fig.show()"
   ]
  },
  {
   "cell_type": "code",
   "execution_count": null,
   "id": "4c595dee-3e9a-4d97-8736-26f3565c6ba0",
   "metadata": {
    "tags": []
   },
   "outputs": [],
   "source": [
    "# User Metric Distibutions\n",
    "user_df = create_grouped_df(df, 'target_binary', ['followers_count', 'friends_count', 'favourites_count', 'statuses_count', 'following'])\n",
    "\n",
    "fig = make_subplots(rows=1, cols=4, specs=[[{'type': 'pie'}, {'type': 'pie'}, {'type': 'pie'}, {'type': 'pie'}],\n",
    "                                          ],\n",
    "                    subplot_titles=('Followers', 'Friends', 'Σ Likes', 'Σ Tweets', ))\n",
    "\n",
    "fig.add_trace(go.Pie(labels=user_df['target_binary'], values=user_df['followers_count'], name='Followers',\n",
    "                     textinfo='label+percent', hoverinfo='label+value'), row=1, col=1)\n",
    "fig.add_trace(go.Pie(labels=user_df['target_binary'], values=user_df['friends_count'], name='Friends',\n",
    "                     textinfo='label+percent', hoverinfo='label+value'), row=1, col=2)\n",
    "fig.add_trace(go.Pie(labels=user_df['target_binary'], values=user_df['favourites_count'], name='Σ Likes',\n",
    "                     textinfo='label+percent', hoverinfo='label+value'), row=1, col=3)\n",
    "fig.add_trace(go.Pie(labels=user_df['target_binary'], values=user_df['statuses_count'], name='Σ Tweets',\n",
    "                     textinfo='label+percent', hoverinfo='label+value'), row=1, col=4)\n",
    "fig.update_layout(\n",
    "    width=1000,\n",
    "    height=400,\n",
    "    showlegend=False,\n",
    ")\n",
    "\n",
    "fig.show()"
   ]
  },
  {
   "cell_type": "code",
   "execution_count": null,
   "id": "1ca1ba93-42b3-4ffe-bee6-4f574858d57e",
   "metadata": {
    "tags": []
   },
   "outputs": [],
   "source": [
    "# Language Metric Distibutions\n",
    "words_df = create_grouped_df(df, 'target_binary', ['Word count', 'Max word length', 'Min word length', 'Average word length', 'long_word_freq', 'short_word_freq', 'unique_count', 'total_count',])\n",
    "\n",
    "\n",
    "fig = make_subplots(rows=1, cols=4, specs=[[{'type': 'pie'}, {'type': 'pie'}, {'type': 'pie'}, {'type': 'pie'}],],\n",
    "                    subplot_titles=('Max-Word Length', 'Min-Word Length', 'Long-Word Freq', 'Short-Word Freq', ))\n",
    "\n",
    "fig.add_trace(go.Pie(labels=words_df['target_binary'], values=words_df['Max word length'], name='Max-Word Length',\n",
    "                     textinfo='label+percent', hoverinfo='label+value'), row=1, col=1)\n",
    "fig.add_trace(go.Pie(labels=words_df['target_binary'], values=words_df['Min word length'], name='Min-Word Length',\n",
    "                     textinfo='label+percent', hoverinfo='label+value'), row=1, col=2)\n",
    "fig.add_trace(go.Pie(labels=words_df['target_binary'], values=words_df['long_word_freq'], name='Long-Word Freq',\n",
    "                     textinfo='label+percent', hoverinfo='label+value'), row=1, col=3)\n",
    "fig.add_trace(go.Pie(labels=words_df['target_binary'], values=words_df['short_word_freq'], name='Short-Word Freq',\n",
    "                     textinfo='label+percent', hoverinfo='label+value'), row=1, col=4)\n",
    "fig.update_layout(\n",
    "    width=1000,\n",
    "    height=400,\n",
    "    showlegend=False,\n",
    ")\n",
    "\n",
    "fig.show()"
   ]
  },
  {
   "cell_type": "code",
   "execution_count": null,
   "id": "93aef222-2e7a-49eb-b1cb-c7f693b81ce7",
   "metadata": {
    "tags": []
   },
   "outputs": [],
   "source": [
    "fig = make_subplots(rows=1, cols=3, specs=[[{'type': 'pie'}, {'type': 'pie'}, {'type': 'pie'}],],\n",
    "                    subplot_titles=('Average Word Length', 'Total Word Count', 'Unique Words', ))\n",
    "\n",
    "fig.add_trace(go.Pie(labels=words_df['target_binary'], values=words_df['Average word length'], name='Avg-Word Length',\n",
    "                     textinfo='label+percent', hoverinfo='label+value'), row=1, col=1)\n",
    "fig.add_trace(go.Pie(labels=words_df['target_binary'], values=words_df['total_count'], name='Total Number of Words',\n",
    "                     textinfo='label+percent', hoverinfo='label+value'), row=1, col=2)\n",
    "fig.add_trace(go.Pie(labels=words_df['target_binary'], values=words_df['unique_count'], name='Unique Words',\n",
    "                     textinfo='label+percent', hoverinfo='label+value'), row=1, col=3)\n",
    "fig.update_layout(\n",
    "    width=800,\n",
    "    height=400,\n",
    "    showlegend=False,\n",
    ")\n",
    "\n",
    "fig.show()"
   ]
  },
  {
   "cell_type": "code",
   "execution_count": null,
   "id": "beeff323-2ba2-4a8e-87e0-4e7bb4bcff97",
   "metadata": {
    "tags": []
   },
   "outputs": [],
   "source": [
    "grammer_df = create_grouped_df(df, 'target_binary', ['present_verbs', 'past_verbs', 'adjectives',\n",
    "       'adverbs', 'adpositions', 'pronouns', 'TOs', 'determiners',\n",
    "       'conjunctions', 'dots', 'exclamation', 'questions', 'ampersand',\n",
    "       'capitals', 'digits', 'URLs', ])\n",
    "\n",
    "fig = make_subplots(rows=2, cols=8, specs=[[{'type': 'pie'}, {'type': 'pie'}, {'type': 'pie'}, {'type': 'pie'}, {'type': 'pie'}, {'type': 'pie'}, {'type': 'pie'}, {'type': 'pie'}], \n",
    "                                           [{'type': 'pie'}, {'type': 'pie'}, {'type': 'pie'}, {'type': 'pie'}, {'type': 'pie'}, {'type': 'pie'}, {'type': 'pie'}, {'type': 'pie'}],\n",
    "                                          ],\n",
    "                    subplot_titles=('Present Verbs', 'Past Verbs', 'Adjectives', 'Adverbs', 'Adpositions', 'Pronouns', 'TOs', 'Determiners', 'Conjunctions', 'Dots (.)', 'Exclamations (!)', 'Questions (?)', 'Ampersands (&)', 'Capitals', 'Digits', 'URLs'))\n",
    "\n",
    "fig.add_trace(go.Pie(labels=grammer_df['target_binary'], values=grammer_df['present_verbs'], name='Max-Word Length',\n",
    "                     textinfo='label+percent', hoverinfo='label+value'), row=1, col=1)\n",
    "fig.add_trace(go.Pie(labels=grammer_df['target_binary'], values=grammer_df['past_verbs'], name='Min-Word Length',\n",
    "                     textinfo='label+percent', hoverinfo='label+value'), row=1, col=2)\n",
    "fig.add_trace(go.Pie(labels=grammer_df['target_binary'], values=grammer_df['adjectives'], name='Long-Word Freq',\n",
    "                     textinfo='label+percent', hoverinfo='label+value'), row=1, col=3)\n",
    "fig.add_trace(go.Pie(labels=grammer_df['target_binary'], values=grammer_df['adverbs'], name='Short-Word Freq',\n",
    "                     textinfo='label+percent', hoverinfo='label+value'), row=1, col=4)\n",
    "fig.add_trace(go.Pie(labels=grammer_df['target_binary'], values=grammer_df['adpositions'], name='Max-Word Length',\n",
    "                     textinfo='label+percent', hoverinfo='label+value'), row=1, col=5)\n",
    "fig.add_trace(go.Pie(labels=grammer_df['target_binary'], values=grammer_df['pronouns'], name='Min-Word Length',\n",
    "                     textinfo='label+percent', hoverinfo='label+value'), row=1, col=6)\n",
    "fig.add_trace(go.Pie(labels=grammer_df['target_binary'], values=grammer_df['TOs'], name='Long-Word Freq',\n",
    "                     textinfo='label+percent', hoverinfo='label+value'), row=1, col=7)\n",
    "fig.add_trace(go.Pie(labels=grammer_df['target_binary'], values=grammer_df['determiners'], name='Short-Word Freq',\n",
    "                     textinfo='label+percent', hoverinfo='label+value'), row=1, col=8)\n",
    "\n",
    "fig.add_trace(go.Pie(labels=grammer_df['target_binary'], values=grammer_df['conjunctions'], name='Max-Word Length',\n",
    "                     textinfo='label+percent', hoverinfo='label+value'), row=2, col=1)\n",
    "fig.add_trace(go.Pie(labels=grammer_df['target_binary'], values=grammer_df['dots'], name='Min-Word Length',\n",
    "                     textinfo='label+percent', hoverinfo='label+value'), row=2, col=2)\n",
    "fig.add_trace(go.Pie(labels=grammer_df['target_binary'], values=grammer_df['exclamation'], name='Long-Word Freq',\n",
    "                     textinfo='label+percent', hoverinfo='label+value'), row=2, col=3)\n",
    "fig.add_trace(go.Pie(labels=grammer_df['target_binary'], values=grammer_df['questions'], name='Short-Word Freq',\n",
    "                     textinfo='label+percent', hoverinfo='label+value'), row=2, col=4)\n",
    "fig.add_trace(go.Pie(labels=grammer_df['target_binary'], values=grammer_df['ampersand'], name='Max-Word Length',\n",
    "                     textinfo='label+percent', hoverinfo='label+value'), row=2, col=5)\n",
    "fig.add_trace(go.Pie(labels=grammer_df['target_binary'], values=grammer_df['capitals'], name='Min-Word Length',\n",
    "                     textinfo='label+percent', hoverinfo='label+value'), row=2, col=6)\n",
    "fig.add_trace(go.Pie(labels=grammer_df['target_binary'], values=grammer_df['digits'], name='Long-Word Freq',\n",
    "                     textinfo='label+percent', hoverinfo='label+value'), row=2, col=7)\n",
    "fig.add_trace(go.Pie(labels=grammer_df['target_binary'], values=grammer_df['URLs'], name='Short-Word Freq',\n",
    "                     textinfo='label+percent', hoverinfo='label+value'), row=2, col=8)\n",
    "\n",
    "fig.update_layout(\n",
    "    width=1200,\n",
    "    height=450,\n",
    "    showlegend=False,\n",
    "    margin=dict(l=20, r=20, t=85, b=20)\n",
    ")\n",
    "\n",
    "fig.show()\n"
   ]
  },
  {
   "cell_type": "code",
   "execution_count": null,
   "id": "74e62263-644c-437d-889e-9908121f1ca4",
   "metadata": {
    "tags": []
   },
   "outputs": [],
   "source": [
    "def count_specific_words_separate_columns(df, column_name):\n",
    "    # Define the words to search for and their corresponding column names\n",
    "    words_to_columns = {\n",
    "        'MONEY': 'money_count',\n",
    "        'URL': 'url_count',\n",
    "        'PERCENT': 'percent_count',\n",
    "        'NUM': 'num_count'\n",
    "    }\n",
    "    \n",
    "    # Initialize columns to 0\n",
    "    for word, column in words_to_columns.items():\n",
    "        df[column] = 0\n",
    "\n",
    "    # Count occurrences of each word and update the respective column\n",
    "    for word, column in words_to_columns.items():\n",
    "        pattern = re.compile(word, re.IGNORECASE)\n",
    "        df[column] = df[column_name].apply(lambda x: len(pattern.findall(str(x))))\n",
    "\n",
    "    return df"
   ]
  },
  {
   "cell_type": "code",
   "execution_count": null,
   "id": "c55760a9-7148-4e46-8f9a-a2518bcb0987",
   "metadata": {
    "tags": []
   },
   "outputs": [],
   "source": [
    "count_df = count_specific_words_separate_columns(df, 'tweet_y')\n",
    "count_df"
   ]
  },
  {
   "cell_type": "code",
   "execution_count": null,
   "id": "e743ac32-8000-490e-9a5c-419dd19bbb70",
   "metadata": {
    "tags": []
   },
   "outputs": [],
   "source": [
    "# Language Metric Distibutions\n",
    "words_df = create_grouped_df(count_df, 'target_binary', ['money_count', 'percent_count', 'num_count', 'url_count'])\n",
    "\n",
    "\n",
    "fig = make_subplots(rows=1, cols=3, specs=[[{'type': 'pie'}, {'type': 'pie'}, {'type': 'pie'}],],\n",
    "                    subplot_titles=('MONEY Count', 'PERCENT Count', 'NUM Count (excluding years)', 'URL Count'))\n",
    "\n",
    "fig.add_trace(go.Pie(labels=words_df['target_binary'], values=words_df['money_count'], name='MONEY',\n",
    "                     textinfo='label+percent', hoverinfo='label+value'), row=1, col=1)\n",
    "fig.add_trace(go.Pie(labels=words_df['target_binary'], values=words_df['percent_count'], name='PERCENT',\n",
    "                     textinfo='label+percent', hoverinfo='label+value'), row=1, col=2)\n",
    "fig.add_trace(go.Pie(labels=words_df['target_binary'], values=words_df['num_count'], name='NUM',\n",
    "                     textinfo='label+percent', hoverinfo='label+value'), row=1, col=3)\n",
    "fig.update_layout(\n",
    "    width=800,\n",
    "    height=400,\n",
    "    showlegend=False,\n",
    ")\n",
    "\n",
    "fig.show()"
   ]
  },
  {
   "cell_type": "code",
   "execution_count": null,
   "id": "8b3af3ba-d99c-4615-bc07-c6e3100c4b32",
   "metadata": {},
   "outputs": [],
   "source": []
  }
 ],
 "metadata": {
  "kernelspec": {
   "display_name": "Python 3 (ipykernel)",
   "language": "python",
   "name": "python3"
  },
  "language_info": {
   "codemirror_mode": {
    "name": "ipython",
    "version": 3
   },
   "file_extension": ".py",
   "mimetype": "text/x-python",
   "name": "python",
   "nbconvert_exporter": "python",
   "pygments_lexer": "ipython3",
   "version": "3.11.4"
  }
 },
 "nbformat": 4,
 "nbformat_minor": 5
}
